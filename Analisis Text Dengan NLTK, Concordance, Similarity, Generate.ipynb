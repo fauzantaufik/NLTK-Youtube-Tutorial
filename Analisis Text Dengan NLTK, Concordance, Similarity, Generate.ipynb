{
 "cells": [
  {
   "cell_type": "code",
   "execution_count": 1,
   "metadata": {},
   "outputs": [],
   "source": [
    "import nltk"
   ]
  },
  {
   "cell_type": "code",
   "execution_count": 4,
   "metadata": {},
   "outputs": [],
   "source": [
    "def create_nltk_text(file):\n",
    "    f=open(file,'r')\n",
    "    raw=f.read()\n",
    "    tokens = nltk.word_tokenize(raw)\n",
    "    return nltk.Text(tokens)"
   ]
  },
  {
   "cell_type": "code",
   "execution_count": 5,
   "metadata": {},
   "outputs": [],
   "source": [
    "ind_island = create_nltk_text('IndonesiaIsland.txt')"
   ]
  },
  {
   "cell_type": "code",
   "execution_count": 6,
   "metadata": {},
   "outputs": [],
   "source": [
    "ind_history = create_nltk_text('IndonesiaHistory.txt')"
   ]
  },
  {
   "cell_type": "code",
   "execution_count": 7,
   "metadata": {},
   "outputs": [
    {
     "name": "stdout",
     "output_type": "stream",
     "text": [
      "Displaying 7 of 7 matches:\n",
      "The islands of Indonesia , also known as the Indonesian Arc\n",
      " islands comprising the country of Indonesia or to the geographical groups whic\n",
      "n the territory of the Republic of Indonesia , [ 1 ] 16,671 island names have b\n",
      "GN ) as of 2018 . [ 2 ] This makes Indonesia the world 's largest island countr\n",
      "exact number of islands comprising Indonesia varies among definitions and sourc\n",
      "ng Agency for Survey and Mapping , Indonesia has 13,466 islands . [ 4 ] However\n",
      "stimates made by the government of Indonesia 8,844 islands have been named , wi\n"
     ]
    }
   ],
   "source": [
    "ind_island.concordance('Indonesia')"
   ]
  },
  {
   "cell_type": "code",
   "execution_count": 8,
   "metadata": {},
   "outputs": [
    {
     "name": "stdout",
     "output_type": "stream",
     "text": [
      "Displaying 14 of 14 matches:\n",
      "The history of Indonesia has been shaped by its geographic \n",
      "y trade , economics and politics . Indonesia is an archipelagic country of 17,0\n",
      "d Indonesian history . The area of Indonesia is populated by peoples of various\n",
      "s . The boundaries of the state of Indonesia match the 20th-century borders of \n",
      "ly been from Taiwan and arrived in Indonesia around 2000 BCE . From the 7th cen\n",
      "s influence stretched over much of Indonesia . The earliest evidence of Islamis\n",
      "idence of Islamised populations in Indonesia dates to the 13th century in north\n",
      " such as the Portuguese arrived in Indonesia from the 16th century seeking to m\n",
      " of the West , whose investment in Indonesia was a major factor in the subseque\n",
      "th . In the late 1990s , however , Indonesia was the country hardest hit by the\n",
      "or the presence of early humans in Indonesia . Fossilised remains of Homo erect\n",
      "silised remains of Homo erectus in Indonesia , popularly known as the `` Java M\n",
      "ulation . They may have arrived in Indonesia around 2000 BCE and are thought to\n",
      " [ 12 ] Dong Son culture spread to Indonesia bringing with it techniques of wet\n"
     ]
    }
   ],
   "source": [
    "ind_history.concordance('Indonesia')"
   ]
  },
  {
   "cell_type": "code",
   "execution_count": 9,
   "metadata": {},
   "outputs": [
    {
     "name": "stdout",
     "output_type": "stream",
     "text": [
      "indonesia national\n"
     ]
    }
   ],
   "source": [
    "ind_island.similar('Indonesian')"
   ]
  },
  {
   "cell_type": "code",
   "execution_count": 10,
   "metadata": {},
   "outputs": [
    {
     "name": "stdout",
     "output_type": "stream",
     "text": [
      "states evidence\n"
     ]
    }
   ],
   "source": [
    "ind_history.similar('Indonesia')"
   ]
  },
  {
   "cell_type": "code",
   "execution_count": 11,
   "metadata": {},
   "outputs": [],
   "source": [
    "ind = create_nltk_text('Indonesia.txt')"
   ]
  },
  {
   "cell_type": "code",
   "execution_count": null,
   "metadata": {},
   "outputs": [],
   "source": []
  }
 ],
 "metadata": {
  "kernelspec": {
   "display_name": "Python 3",
   "language": "python",
   "name": "python3"
  },
  "language_info": {
   "codemirror_mode": {
    "name": "ipython",
    "version": 3
   },
   "file_extension": ".py",
   "mimetype": "text/x-python",
   "name": "python",
   "nbconvert_exporter": "python",
   "pygments_lexer": "ipython3",
   "version": "3.7.4"
  }
 },
 "nbformat": 4,
 "nbformat_minor": 4
}
